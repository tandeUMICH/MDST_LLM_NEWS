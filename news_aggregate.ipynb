{
 "cells": [
  {
   "cell_type": "markdown",
   "metadata": {},
   "source": [
    "News Aggregate Notebook Testing Area"
   ]
  },
  {
   "cell_type": "code",
   "execution_count": 5,
   "metadata": {},
   "outputs": [
    {
     "data": {
      "text/plain": [
       "True"
      ]
     },
     "execution_count": 5,
     "metadata": {},
     "output_type": "execute_result"
    }
   ],
   "source": [
    "import os\n",
    "from dotenv import load_dotenv\n",
    "load_dotenv()"
   ]
  },
  {
   "cell_type": "code",
   "execution_count": 11,
   "metadata": {},
   "outputs": [],
   "source": [
    "from videodb import connect\n",
    "\n",
    "# connect to VideoDB\n",
    "conn = connect(os.getenv(\"VIDEO_DB_API_KEY\"))\n",
    "\n",
    "# podcast1 = conn.upload(url=\"https://feeds.acast.com/public/streams/621e1a5bf5df83377cc948b8/episodes/65f48635da458200167c4fce.mp3\")\n",
    "# video1 = conn.upload(url=\"https://www.youtube.com/watch?v=9cGUtnzCoBs\")\n"
   ]
  },
  {
   "cell_type": "code",
   "execution_count": 12,
   "metadata": {},
   "outputs": [
    {
     "data": {
      "text/plain": [
       "[Video(id=m-bf6bd6a6-1aaf-49a6-8f9f-8192a1bffde4, collection_id=c-dacfb703-74d4-4744-9d3f-389a3a7b3121, stream_url=https://stream.videodb.io/v3/published/manifests/8aa1f38e-e50e-4f36-bd6e-2ad8f342c100.m3u8, player_url=https://console.videodb.io/player?url=https://stream.videodb.io/v3/published/manifests/8aa1f38e-e50e-4f36-bd6e-2ad8f342c100.m3u8, name=Are small modular reactors the future for nuclear? | FT Energy Source, description=None, thumbnail_url=None, length=131.889342)]"
      ]
     },
     "execution_count": 12,
     "metadata": {},
     "output_type": "execute_result"
    }
   ],
   "source": [
    "coll = conn.get_collection()\n",
    "coll.get_videos()"
   ]
  },
  {
   "cell_type": "code",
   "execution_count": null,
   "metadata": {},
   "outputs": [],
   "source": [
    "from llama_index.retrievers.videodb import VideoDBRetriever\n",
    "from llama_index.core import get_response_synthesizer\n",
    "from llama_index.core.query_engine import RetrieverQueryEngine"
   ]
  }
 ],
 "metadata": {
  "kernelspec": {
   "display_name": "env",
   "language": "python",
   "name": "python3"
  },
  "language_info": {
   "codemirror_mode": {
    "name": "ipython",
    "version": 3
   },
   "file_extension": ".py",
   "mimetype": "text/x-python",
   "name": "python",
   "nbconvert_exporter": "python",
   "pygments_lexer": "ipython3",
   "version": "3.10.12"
  }
 },
 "nbformat": 4,
 "nbformat_minor": 2
}
